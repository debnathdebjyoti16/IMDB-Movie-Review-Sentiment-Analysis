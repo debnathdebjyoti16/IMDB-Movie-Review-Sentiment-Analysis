{
 "cells": [
  {
   "cell_type": "code",
   "execution_count": 1,
   "metadata": {},
   "outputs": [],
   "source": [
    "# Step 1: Import Libraries and Load the Model\n",
    "import numpy as np\n",
    "import tensorflow as tf\n",
    "from tensorflow.keras.datasets import imdb\n",
    "from tensorflow.keras.preprocessing import sequence\n",
    "from tensorflow.keras.models import load_model"
   ]
  },
  {
   "cell_type": "code",
   "execution_count": 2,
   "metadata": {},
   "outputs": [],
   "source": [
    "# Load the IMDB dataset word index\n",
    "word_index = imdb.get_word_index()\n",
    "reverse_word_index = {value: key for key, value in word_index.items()}"
   ]
  },
  {
   "cell_type": "code",
   "execution_count": 8,
   "metadata": {},
   "outputs": [
    {
     "name": "stderr",
     "output_type": "stream",
     "text": [
      "WARNING:absl:Compiled the loaded model, but the compiled metrics have yet to be built. `model.compile_metrics` will be empty until you train or evaluate the model.\n"
     ]
    },
    {
     "data": {
      "text/html": [
       "<pre style=\"white-space:pre;overflow-x:auto;line-height:normal;font-family:Menlo,'DejaVu Sans Mono',consolas,'Courier New',monospace\"><span style=\"font-weight: bold\">Model: \"sequential_1\"</span>\n",
       "</pre>\n"
      ],
      "text/plain": [
       "\u001b[1mModel: \"sequential_1\"\u001b[0m\n"
      ]
     },
     "metadata": {},
     "output_type": "display_data"
    },
    {
     "data": {
      "text/html": [
       "<pre style=\"white-space:pre;overflow-x:auto;line-height:normal;font-family:Menlo,'DejaVu Sans Mono',consolas,'Courier New',monospace\">┏━━━━━━━━━━━━━━━━━━━━━━━━━━━━━━━━━┳━━━━━━━━━━━━━━━━━━━━━━━━┳━━━━━━━━━━━━━━━┓\n",
       "┃<span style=\"font-weight: bold\"> Layer (type)                    </span>┃<span style=\"font-weight: bold\"> Output Shape           </span>┃<span style=\"font-weight: bold\">       Param # </span>┃\n",
       "┡━━━━━━━━━━━━━━━━━━━━━━━━━━━━━━━━━╇━━━━━━━━━━━━━━━━━━━━━━━━╇━━━━━━━━━━━━━━━┩\n",
       "│ embedding_1 (<span style=\"color: #0087ff; text-decoration-color: #0087ff\">Embedding</span>)         │ (<span style=\"color: #00af00; text-decoration-color: #00af00\">32</span>, <span style=\"color: #00af00; text-decoration-color: #00af00\">500</span>, <span style=\"color: #00af00; text-decoration-color: #00af00\">128</span>)         │     <span style=\"color: #00af00; text-decoration-color: #00af00\">1,280,000</span> │\n",
       "├─────────────────────────────────┼────────────────────────┼───────────────┤\n",
       "│ simple_rnn_1 (<span style=\"color: #0087ff; text-decoration-color: #0087ff\">SimpleRNN</span>)        │ (<span style=\"color: #00af00; text-decoration-color: #00af00\">32</span>, <span style=\"color: #00af00; text-decoration-color: #00af00\">128</span>)              │        <span style=\"color: #00af00; text-decoration-color: #00af00\">32,896</span> │\n",
       "├─────────────────────────────────┼────────────────────────┼───────────────┤\n",
       "│ dense_1 (<span style=\"color: #0087ff; text-decoration-color: #0087ff\">Dense</span>)                 │ (<span style=\"color: #00af00; text-decoration-color: #00af00\">32</span>, <span style=\"color: #00af00; text-decoration-color: #00af00\">1</span>)                │           <span style=\"color: #00af00; text-decoration-color: #00af00\">129</span> │\n",
       "└─────────────────────────────────┴────────────────────────┴───────────────┘\n",
       "</pre>\n"
      ],
      "text/plain": [
       "┏━━━━━━━━━━━━━━━━━━━━━━━━━━━━━━━━━┳━━━━━━━━━━━━━━━━━━━━━━━━┳━━━━━━━━━━━━━━━┓\n",
       "┃\u001b[1m \u001b[0m\u001b[1mLayer (type)                   \u001b[0m\u001b[1m \u001b[0m┃\u001b[1m \u001b[0m\u001b[1mOutput Shape          \u001b[0m\u001b[1m \u001b[0m┃\u001b[1m \u001b[0m\u001b[1m      Param #\u001b[0m\u001b[1m \u001b[0m┃\n",
       "┡━━━━━━━━━━━━━━━━━━━━━━━━━━━━━━━━━╇━━━━━━━━━━━━━━━━━━━━━━━━╇━━━━━━━━━━━━━━━┩\n",
       "│ embedding_1 (\u001b[38;5;33mEmbedding\u001b[0m)         │ (\u001b[38;5;34m32\u001b[0m, \u001b[38;5;34m500\u001b[0m, \u001b[38;5;34m128\u001b[0m)         │     \u001b[38;5;34m1,280,000\u001b[0m │\n",
       "├─────────────────────────────────┼────────────────────────┼───────────────┤\n",
       "│ simple_rnn_1 (\u001b[38;5;33mSimpleRNN\u001b[0m)        │ (\u001b[38;5;34m32\u001b[0m, \u001b[38;5;34m128\u001b[0m)              │        \u001b[38;5;34m32,896\u001b[0m │\n",
       "├─────────────────────────────────┼────────────────────────┼───────────────┤\n",
       "│ dense_1 (\u001b[38;5;33mDense\u001b[0m)                 │ (\u001b[38;5;34m32\u001b[0m, \u001b[38;5;34m1\u001b[0m)                │           \u001b[38;5;34m129\u001b[0m │\n",
       "└─────────────────────────────────┴────────────────────────┴───────────────┘\n"
      ]
     },
     "metadata": {},
     "output_type": "display_data"
    },
    {
     "data": {
      "text/html": [
       "<pre style=\"white-space:pre;overflow-x:auto;line-height:normal;font-family:Menlo,'DejaVu Sans Mono',consolas,'Courier New',monospace\"><span style=\"font-weight: bold\"> Total params: </span><span style=\"color: #00af00; text-decoration-color: #00af00\">1,313,027</span> (5.01 MB)\n",
       "</pre>\n"
      ],
      "text/plain": [
       "\u001b[1m Total params: \u001b[0m\u001b[38;5;34m1,313,027\u001b[0m (5.01 MB)\n"
      ]
     },
     "metadata": {},
     "output_type": "display_data"
    },
    {
     "data": {
      "text/html": [
       "<pre style=\"white-space:pre;overflow-x:auto;line-height:normal;font-family:Menlo,'DejaVu Sans Mono',consolas,'Courier New',monospace\"><span style=\"font-weight: bold\"> Trainable params: </span><span style=\"color: #00af00; text-decoration-color: #00af00\">1,313,025</span> (5.01 MB)\n",
       "</pre>\n"
      ],
      "text/plain": [
       "\u001b[1m Trainable params: \u001b[0m\u001b[38;5;34m1,313,025\u001b[0m (5.01 MB)\n"
      ]
     },
     "metadata": {},
     "output_type": "display_data"
    },
    {
     "data": {
      "text/html": [
       "<pre style=\"white-space:pre;overflow-x:auto;line-height:normal;font-family:Menlo,'DejaVu Sans Mono',consolas,'Courier New',monospace\"><span style=\"font-weight: bold\"> Non-trainable params: </span><span style=\"color: #00af00; text-decoration-color: #00af00\">0</span> (0.00 B)\n",
       "</pre>\n"
      ],
      "text/plain": [
       "\u001b[1m Non-trainable params: \u001b[0m\u001b[38;5;34m0\u001b[0m (0.00 B)\n"
      ]
     },
     "metadata": {},
     "output_type": "display_data"
    },
    {
     "data": {
      "text/html": [
       "<pre style=\"white-space:pre;overflow-x:auto;line-height:normal;font-family:Menlo,'DejaVu Sans Mono',consolas,'Courier New',monospace\"><span style=\"font-weight: bold\"> Optimizer params: </span><span style=\"color: #00af00; text-decoration-color: #00af00\">2</span> (12.00 B)\n",
       "</pre>\n"
      ],
      "text/plain": [
       "\u001b[1m Optimizer params: \u001b[0m\u001b[38;5;34m2\u001b[0m (12.00 B)\n"
      ]
     },
     "metadata": {},
     "output_type": "display_data"
    }
   ],
   "source": [
    "# Load the pre-trained model with ReLU activation\n",
    "model = load_model('simple_rnn_imdb.h5')\n",
    "model.summary()"
   ]
  },
  {
   "cell_type": "code",
   "execution_count": 9,
   "metadata": {},
   "outputs": [
    {
     "data": {
      "text/plain": [
       "[array([[ 0.5003862 ,  0.40781462,  0.5026204 , ..., -0.9281834 ,\n",
       "          1.4084239 ,  1.5041608 ],\n",
       "        [-0.00662322,  0.02733948, -0.02807583, ..., -0.0517009 ,\n",
       "          0.0423401 ,  0.02865761],\n",
       "        [ 0.0270109 , -0.03957798, -0.07510688, ..., -0.13044201,\n",
       "          0.16218966,  0.14170012],\n",
       "        ...,\n",
       "        [-0.0577283 , -0.10664596, -0.1002004 , ...,  0.02372384,\n",
       "         -0.07309948,  0.19627862],\n",
       "        [-0.00839846, -0.05612446,  0.01909721, ..., -0.04828442,\n",
       "          0.00223849,  0.02089344],\n",
       "        [ 0.02086975, -0.06696074, -0.05192381, ...,  0.03241469,\n",
       "         -0.03678364,  0.0148236 ]], dtype=float32),\n",
       " array([[-0.04214066,  0.14542632, -0.09100601, ...,  0.12167225,\n",
       "          0.19913718, -0.11611058],\n",
       "        [-0.16507708,  0.05044731,  0.07132891, ...,  0.05276091,\n",
       "          0.04397802,  0.17861593],\n",
       "        [-0.14055613, -0.08195932, -0.09156273, ...,  0.01041425,\n",
       "          0.22598831, -0.05093111],\n",
       "        ...,\n",
       "        [ 0.16359441,  0.06287409,  0.02908214, ..., -0.07939366,\n",
       "         -0.01947953,  0.04235717],\n",
       "        [-0.14804465, -0.03412317, -0.03451035, ...,  0.09029756,\n",
       "          0.10522404,  0.03144857],\n",
       "        [-0.10484217, -0.07485994,  0.0841454 , ..., -0.11053671,\n",
       "         -0.16024117, -0.00947195]], dtype=float32),\n",
       " array([[-0.02887511,  0.12800768,  0.0860749 , ...,  0.04048305,\n",
       "         -0.05146268, -0.15692806],\n",
       "        [ 0.03047439, -0.09424265, -0.16043504, ...,  0.1692533 ,\n",
       "          0.05757448, -0.01025856],\n",
       "        [-0.07149494, -0.09984792, -0.08198864, ...,  0.02996439,\n",
       "          0.00313274,  0.04711192],\n",
       "        ...,\n",
       "        [-0.08963776, -0.12049772,  0.13465872, ...,  0.18514806,\n",
       "         -0.17511262, -0.04623862],\n",
       "        [-0.11937769, -0.12097044, -0.0551271 , ..., -0.01062085,\n",
       "          0.0908775 ,  0.16318345],\n",
       "        [ 0.12771738, -0.01059269,  0.07533546, ..., -0.03207436,\n",
       "          0.08184021,  0.04024978]], dtype=float32),\n",
       " array([ 0.01233423, -0.01057547, -0.02072815,  0.01424673, -0.02071162,\n",
       "         0.02784437, -0.03808379, -0.02359813, -0.01346875,  0.01515102,\n",
       "        -0.01351118, -0.01037843, -0.02487109,  0.0011924 , -0.01461721,\n",
       "        -0.03175649, -0.0480286 , -0.00266239,  0.00213116, -0.01680214,\n",
       "         0.01280504,  0.07429329, -0.02890058, -0.02596656, -0.02756851,\n",
       "        -0.00581909, -0.05492081, -0.09151964, -0.03003578,  0.01509622,\n",
       "         0.00169938, -0.01462502, -0.03927119, -0.02012107, -0.07421259,\n",
       "        -0.01742236, -0.06059736, -0.02090342, -0.0232033 , -0.0212468 ,\n",
       "        -0.00266164,  0.02398737, -0.03713162, -0.03228948, -0.00242013,\n",
       "         0.00697908, -0.01896325, -0.04146516, -0.02364131,  0.05280734,\n",
       "         0.01374909, -0.00290125, -0.02899962, -0.01602449,  0.00871482,\n",
       "         0.0228205 ,  0.01859792, -0.02939038, -0.00583391, -0.00700601,\n",
       "        -0.07466097, -0.01984002, -0.0214349 , -0.0124797 ,  0.04819237,\n",
       "        -0.01426635, -0.0141356 , -0.05861254, -0.05425127,  0.01420804,\n",
       "        -0.05477303, -0.01788061,  0.00451437,  0.01678313, -0.00372934,\n",
       "        -0.0682819 ,  0.00626129,  0.02435192, -0.00366864, -0.050245  ,\n",
       "         0.0254366 , -0.04316048, -0.03742136, -0.02890671, -0.06493226,\n",
       "        -0.01785981, -0.00420981,  0.00348602, -0.05247303,  0.00146178,\n",
       "        -0.01871388, -0.05339716,  0.02108953, -0.03920425,  0.01270247,\n",
       "        -0.00038536,  0.01250278, -0.01939477, -0.01289944, -0.02263471,\n",
       "        -0.03978993, -0.03225173, -0.03823848, -0.02187702, -0.02610715,\n",
       "        -0.02697984, -0.0055955 , -0.0314953 ,  0.00566624,  0.00889457,\n",
       "        -0.02882024, -0.00760824, -0.01125488, -0.00013043,  0.04141234,\n",
       "        -0.02393416, -0.00849404, -0.05091966, -0.00033461,  0.05142675,\n",
       "        -0.04037181,  0.05473661, -0.01180875, -0.01237078, -0.01812879,\n",
       "        -0.00729816, -0.03694491, -0.00721636], dtype=float32),\n",
       " array([[-0.6076715 ],\n",
       "        [-0.03633989],\n",
       "        [ 0.2233371 ],\n",
       "        [-0.07491894],\n",
       "        [-0.0658851 ],\n",
       "        [ 0.10595274],\n",
       "        [ 0.16763738],\n",
       "        [-0.04166415],\n",
       "        [ 0.20770141],\n",
       "        [-0.04071484],\n",
       "        [-0.20738116],\n",
       "        [ 0.01579163],\n",
       "        [-0.00968126],\n",
       "        [ 0.0051217 ],\n",
       "        [-0.06878734],\n",
       "        [-0.0192331 ],\n",
       "        [ 0.05422005],\n",
       "        [-0.1585509 ],\n",
       "        [-0.18473528],\n",
       "        [-0.52928174],\n",
       "        [ 0.17672119],\n",
       "        [ 0.04975061],\n",
       "        [-0.17397119],\n",
       "        [-0.13534968],\n",
       "        [-0.15614085],\n",
       "        [-0.43218666],\n",
       "        [-1.2569242 ],\n",
       "        [ 0.02371346],\n",
       "        [ 0.06076961],\n",
       "        [ 0.21323934],\n",
       "        [-0.18127047],\n",
       "        [-0.24172078],\n",
       "        [ 0.50918144],\n",
       "        [-0.19604997],\n",
       "        [-0.06156198],\n",
       "        [ 0.03611139],\n",
       "        [ 0.13675398],\n",
       "        [-0.31690297],\n",
       "        [ 0.00178338],\n",
       "        [-0.12120574],\n",
       "        [-0.19616672],\n",
       "        [ 0.1671258 ],\n",
       "        [ 0.09394589],\n",
       "        [-0.04611358],\n",
       "        [ 0.35391966],\n",
       "        [-0.20306168],\n",
       "        [-0.11710512],\n",
       "        [-0.10258633],\n",
       "        [-0.07487802],\n",
       "        [ 0.03027425],\n",
       "        [-0.12768666],\n",
       "        [ 0.1528266 ],\n",
       "        [-0.0545917 ],\n",
       "        [-0.22392261],\n",
       "        [ 0.16189378],\n",
       "        [-0.48987645],\n",
       "        [-0.08912926],\n",
       "        [ 0.16671465],\n",
       "        [ 0.11575293],\n",
       "        [ 0.00825193],\n",
       "        [ 0.07294336],\n",
       "        [ 0.09786133],\n",
       "        [ 0.2712351 ],\n",
       "        [-0.14905396],\n",
       "        [ 0.04176484],\n",
       "        [ 0.02189416],\n",
       "        [-0.24538772],\n",
       "        [ 0.10302252],\n",
       "        [-0.01569644],\n",
       "        [-0.12187022],\n",
       "        [-0.567442  ],\n",
       "        [ 0.20068765],\n",
       "        [-0.15447538],\n",
       "        [ 0.213688  ],\n",
       "        [-0.18701735],\n",
       "        [-0.19274229],\n",
       "        [-0.12941858],\n",
       "        [-0.11011935],\n",
       "        [ 0.13655148],\n",
       "        [ 0.00517959],\n",
       "        [-0.05132166],\n",
       "        [ 0.08572145],\n",
       "        [ 0.19722474],\n",
       "        [ 0.1164189 ],\n",
       "        [-0.11170291],\n",
       "        [ 0.15342298],\n",
       "        [-0.38638893],\n",
       "        [-0.09774516],\n",
       "        [ 0.06086369],\n",
       "        [-0.14511313],\n",
       "        [-0.06501371],\n",
       "        [-0.4526189 ],\n",
       "        [-0.18689992],\n",
       "        [ 0.0974295 ],\n",
       "        [ 0.21034315],\n",
       "        [-0.25919226],\n",
       "        [-0.11074616],\n",
       "        [ 0.4117858 ],\n",
       "        [-0.20684786],\n",
       "        [ 0.16464378],\n",
       "        [ 0.8209435 ],\n",
       "        [-0.14933267],\n",
       "        [-0.11955356],\n",
       "        [ 0.04910126],\n",
       "        [ 0.11234802],\n",
       "        [-0.05782418],\n",
       "        [-0.10787513],\n",
       "        [-0.13898326],\n",
       "        [-0.04848181],\n",
       "        [-0.12999956],\n",
       "        [-0.10069527],\n",
       "        [-0.0586838 ],\n",
       "        [-0.18689698],\n",
       "        [-0.17604533],\n",
       "        [ 0.13342497],\n",
       "        [-1.6888365 ],\n",
       "        [-0.18633087],\n",
       "        [ 0.15334998],\n",
       "        [ 0.12768662],\n",
       "        [-0.15437926],\n",
       "        [ 0.27378222],\n",
       "        [ 0.052728  ],\n",
       "        [ 0.03412564],\n",
       "        [ 0.2003858 ],\n",
       "        [ 0.00359328],\n",
       "        [-0.28694853],\n",
       "        [-0.19758973],\n",
       "        [-0.06244531]], dtype=float32),\n",
       " array([-2.0288126], dtype=float32)]"
      ]
     },
     "execution_count": 9,
     "metadata": {},
     "output_type": "execute_result"
    }
   ],
   "source": [
    "model.get_weights()"
   ]
  },
  {
   "cell_type": "code",
   "execution_count": 10,
   "metadata": {},
   "outputs": [],
   "source": [
    "# Step 2: Helper Functions\n",
    "# Function to decode reviews\n",
    "def decode_review(encoded_review):\n",
    "    return ' '.join([reverse_word_index.get(i - 3, '?') for i in encoded_review])\n",
    "\n",
    "# Function to preprocess user input\n",
    "def preprocess_text(text):\n",
    "    words = text.lower().split()\n",
    "    encoded_review = [word_index.get(word, 2) + 3 for word in words]\n",
    "    padded_review = sequence.pad_sequences([encoded_review], maxlen=500)\n",
    "    return padded_review"
   ]
  },
  {
   "cell_type": "code",
   "execution_count": 11,
   "metadata": {},
   "outputs": [],
   "source": [
    "### Prediction  function\n",
    "\n",
    "def predict_sentiment(review):\n",
    "    preprocessed_input=preprocess_text(review)\n",
    "\n",
    "    prediction=model.predict(preprocessed_input)\n",
    "\n",
    "    sentiment = 'Positive' if prediction[0][0] > 0.5 else 'Negative'\n",
    "    \n",
    "    return sentiment, prediction[0][0]"
   ]
  },
  {
   "cell_type": "code",
   "execution_count": 12,
   "metadata": {},
   "outputs": [
    {
     "name": "stdout",
     "output_type": "stream",
     "text": [
      "\u001b[1m1/1\u001b[0m \u001b[32m━━━━━━━━━━━━━━━━━━━━\u001b[0m\u001b[37m\u001b[0m \u001b[1m0s\u001b[0m 291ms/step\n",
      "Review: This movie was fantastic! The acting was great and the plot was thrilling.\n",
      "Sentiment: Positive\n",
      "Prediction Score: 0.6514572501182556\n"
     ]
    }
   ],
   "source": [
    "# Step 4: User Input and Prediction\n",
    "# Example review for prediction\n",
    "example_review = \"This movie was fantastic! The acting was great and the plot was thrilling.\"\n",
    "\n",
    "sentiment,score=predict_sentiment(example_review)\n",
    "\n",
    "print(f'Review: {example_review}')\n",
    "print(f'Sentiment: {sentiment}')\n",
    "print(f'Prediction Score: {score}')"
   ]
  },
  {
   "cell_type": "code",
   "execution_count": null,
   "metadata": {},
   "outputs": [],
   "source": []
  },
  {
   "cell_type": "code",
   "execution_count": null,
   "metadata": {},
   "outputs": [],
   "source": []
  },
  {
   "cell_type": "code",
   "execution_count": null,
   "metadata": {},
   "outputs": [],
   "source": []
  },
  {
   "cell_type": "code",
   "execution_count": null,
   "metadata": {},
   "outputs": [],
   "source": []
  }
 ],
 "metadata": {
  "kernelspec": {
   "display_name": "Python 3",
   "language": "python",
   "name": "python3"
  },
  "language_info": {
   "codemirror_mode": {
    "name": "ipython",
    "version": 3
   },
   "file_extension": ".py",
   "mimetype": "text/x-python",
   "name": "python",
   "nbconvert_exporter": "python",
   "pygments_lexer": "ipython3",
   "version": "3.12.4"
  }
 },
 "nbformat": 4,
 "nbformat_minor": 2
}
